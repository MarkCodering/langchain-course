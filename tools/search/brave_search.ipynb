{
 "cells": [
  {
   "cell_type": "markdown",
   "id": "eda326e4",
   "metadata": {},
   "source": [
    "# Brave Search\n",
    "\n",
    "This notebook goes over how to use the Brave Search tool.\n",
    "Go to the [Brave Website](https://brave.com/search/api/) to sign up for a free account and get an API key."
   ]
  },
  {
   "cell_type": "code",
   "execution_count": 1,
   "id": "2d7e7b3d",
   "metadata": {},
   "outputs": [
    {
     "name": "stdout",
     "output_type": "stream",
     "text": [
      "Note: you may need to restart the kernel to use updated packages.\n"
     ]
    }
   ],
   "source": [
    "%pip install --upgrade --quiet langchain-community"
   ]
  },
  {
   "cell_type": "code",
   "execution_count": 2,
   "id": "a4c896e5",
   "metadata": {},
   "outputs": [],
   "source": [
    "from langchain_community.tools import BraveSearch"
   ]
  },
  {
   "cell_type": "code",
   "execution_count": 3,
   "id": "6784d37c",
   "metadata": {},
   "outputs": [],
   "source": [
    "api_key = input(\"Enter your Brave Search API key: \")"
   ]
  },
  {
   "cell_type": "code",
   "execution_count": 4,
   "id": "5b14008a",
   "metadata": {},
   "outputs": [],
   "source": [
    "tool = BraveSearch.from_api_key(api_key=api_key, search_kwargs={\"count\": 3})"
   ]
  },
  {
   "cell_type": "code",
   "execution_count": 5,
   "id": "f11937b2",
   "metadata": {},
   "outputs": [
    {
     "data": {
      "text/plain": [
       "'[{\"title\": \"Obama\\\\u2019s Middle Name \\\\u2014 My Last Name \\\\u2014 is \\\\u2018Hussein.\\\\u2019 So?\", \"link\": \"https://www.cair.com/cair_in_the_news/obamas-middle-name-my-last-name-is-hussein-so/\", \"snippet\": \"I was. Granted, it was only a school play, and I spell my name \\\\u201c<strong>Hussain</strong>.\\\\u201d But I thought I did a pretty good job as the commander in chief, even if my wardrobe consisted of an old tweed jacket from Sears.\"}, {\"title\": \"r/AskHistorians on Reddit: Obama\\'s name (particularly his middle name Hussein) was the object of xenophobic innuendo questioning his loyalty (especially in the context of US military intervention in the Near East). Was Eisenhower\\'s German surname ever the object of similar distrust (i.e., suspicion he might be a secret Nazi)?\", \"link\": \"https://www.reddit.com/r/AskHistorians/comments/l6idpi/obamas_name_particularly_his_middle_name_hussein/\", \"snippet\": \"6.1K votes, 85 comments. 2.2M subscribers in the AskHistorians community. The Portal for Public History. Please read the rules before participating\\\\u2026\"}, {\"title\": \"What\\'s up with Obama\\'s middle name? - Quora\", \"link\": \"https://www.quora.com/Whats-up-with-Obamas-middle-name\", \"snippet\": \"Answer (1 of 16): A better question would be, \\\\u201cWhat\\\\u2019s up with <strong>Obama</strong>\\\\u2019s first <strong>name</strong>?\\\\u201d President Barack Hussein <strong>Obama</strong>\\\\u2019s father\\\\u2019s <strong>name</strong> was Barack Hussein <strong>Obama</strong>. He was <strong>named</strong> after his father. Hussein, <strong>Obama</strong>\\\\u2019<strong>s</strong> <strong>middle</strong> <strong>name</strong>, is a very common Arabic <strong>name</strong>, meaning &quot;good,&quot; &quot;handsome,&quot; or ...\"}]'"
      ]
     },
     "execution_count": 5,
     "metadata": {},
     "output_type": "execute_result"
    }
   ],
   "source": [
    "tool.run(\"obama middle name\")"
   ]
  },
  {
   "cell_type": "code",
   "execution_count": null,
   "id": "da9c63d5",
   "metadata": {},
   "outputs": [],
   "source": []
  }
 ],
 "metadata": {
  "kernelspec": {
   "display_name": "Python 3",
   "language": "python",
   "name": "python3"
  },
  "language_info": {
   "codemirror_mode": {
    "name": "ipython",
    "version": 3
   },
   "file_extension": ".py",
   "mimetype": "text/x-python",
   "name": "python",
   "nbconvert_exporter": "python",
   "pygments_lexer": "ipython3",
   "version": "3.12.1"
  }
 },
 "nbformat": 4,
 "nbformat_minor": 5
}
